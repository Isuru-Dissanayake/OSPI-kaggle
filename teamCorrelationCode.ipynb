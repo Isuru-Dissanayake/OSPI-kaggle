{
 "cells": [
  {
   "cell_type": "markdown",
   "metadata": {},
   "source": [
    "### Data preprocessing"
   ]
  },
  {
   "cell_type": "code",
   "execution_count": 1,
   "metadata": {},
   "outputs": [],
   "source": [
    "import numpy as np\n",
    "import pandas as pd\n",
    "from sklearn.preprocessing import OneHotEncoder\n",
    "from sklearn.impute import SimpleImputer\n",
    "from sklearn.model_selection import train_test_split\n",
    "from sklearn.svm import SVC\n",
    "from sklearn import metrics\n",
    "from sklearn.metrics import classification_report, confusion_matrix, accuracy_score\n",
    "from sklearn.preprocessing import StandardScaler\n",
    "import matplotlib.pyplot as plt\n",
    "from sklearn.ensemble import RandomForestClassifier\n",
    "from sklearn.ensemble import IsolationForest"
   ]
  },
  {
   "cell_type": "markdown",
   "metadata": {},
   "source": [
    "##### Training data preprocessing"
   ]
  },
  {
   "cell_type": "code",
   "execution_count": 2,
   "metadata": {},
   "outputs": [
    {
     "data": {
      "text/plain": [
       "(10480, 18)"
      ]
     },
     "execution_count": 2,
     "metadata": {},
     "output_type": "execute_result"
    }
   ],
   "source": [
    "trainSet = pd.read_csv('Trainset.csv')\n",
    "m = trainSet.shape[0]\n",
    "features = list(trainSet.columns)[:]\n",
    "trainSet.shape"
   ]
  },
  {
   "cell_type": "code",
   "execution_count": 3,
   "metadata": {},
   "outputs": [],
   "source": [
    "Y = trainSet.iloc[:, 17:18].values \n",
    "X0 = trainSet.iloc[:, 10:17].values #month....weekend\n",
    "X1 = trainSet.iloc[:, 0:1].values   #homepage\n",
    "X2 = trainSet.iloc[:, 2:3].values   #aboutus\n",
    "X3 = trainSet.iloc[:, 4:5].values   #contactus\n",
    "X4 = trainSet.iloc[:, 1:2].values   #homepage_time\n",
    "X5 = trainSet.iloc[:, 3:4].values   #aboutus_time\n",
    "X6 = trainSet.iloc[:, 5:10].values   #contactus_time....special_day"
   ]
  },
  {
   "cell_type": "code",
   "execution_count": 4,
   "metadata": {},
   "outputs": [
    {
     "name": "stderr",
     "output_type": "stream",
     "text": [
      "C:\\ProgramData\\Anaconda3\\lib\\site-packages\\ipykernel_launcher.py:13: RuntimeWarning: invalid value encountered in less\n",
      "  del sys.path[0]\n",
      "C:\\ProgramData\\Anaconda3\\lib\\site-packages\\ipykernel_launcher.py:16: RuntimeWarning: invalid value encountered in less\n",
      "  app.launch_new_instance()\n",
      "C:\\ProgramData\\Anaconda3\\lib\\site-packages\\ipykernel_launcher.py:19: RuntimeWarning: invalid value encountered in less\n"
     ]
    }
   ],
   "source": [
    "imp_mf = SimpleImputer(missing_values=np.nan, strategy='most_frequent')\n",
    "\n",
    "imp_mf.fit(X0)\n",
    "X0 = imp_mf.transform(X0)\n",
    "imp_mf.fit(X1)\n",
    "X1 = imp_mf.transform(X1)\n",
    "imp_mf.fit(X2)\n",
    "X2 = imp_mf.transform(X2)\n",
    "imp_mf.fit(X3)\n",
    "X3 = imp_mf.transform(X3)\n",
    "\n",
    "imp_mean = SimpleImputer(missing_values=np.nan, strategy='mean')\n",
    "X4[X4 < 0] = np.nan\n",
    "imp_mean.fit(X4)\n",
    "X4 = imp_mean.transform(X4)\n",
    "X5[X5 < 0] = np.nan\n",
    "imp_mean.fit(X5)\n",
    "X5 = imp_mean.transform(X5)\n",
    "X6[X6 < 0] = np.nan\n",
    "imp_mean.fit(X6)\n",
    "X6 = imp_mean.transform(X6)"
   ]
  },
  {
   "cell_type": "code",
   "execution_count": 5,
   "metadata": {},
   "outputs": [
    {
     "data": {
      "text/plain": [
       "(10480, 18)"
      ]
     },
     "execution_count": 5,
     "metadata": {},
     "output_type": "execute_result"
    }
   ],
   "source": [
    "X= np.append(X1,X4,axis=1)\n",
    "X= np.append(X,X2,axis=1)\n",
    "X= np.append(X,X5,axis=1)\n",
    "X= np.append(X,X3,axis=1)\n",
    "X= np.append(X,X6,axis=1)\n",
    "X= np.append(X,X0,axis=1)\n",
    "df= np.append(X,Y,axis=1)\n",
    "df.shape"
   ]
  },
  {
   "cell_type": "code",
   "execution_count": 6,
   "metadata": {},
   "outputs": [],
   "source": [
    "dfObj = pd.DataFrame(df, columns = ['Homepage', 'Homepage _Duration', 'Aboutus', 'Aboutus_Duration',\n",
    "       'Contactus', 'Contactus_Duration', 'BounceRates', 'ExitRates',\n",
    "       'PageValues', 'SpecialDay', 'Month', 'OperatingSystems', 'Browser',\n",
    "       'Province','TrafficType', 'VisitorType', 'Weekend','Revenue']) \n",
    "dfObj.to_csv('imputedData.csv', index=False)"
   ]
  },
  {
   "cell_type": "code",
   "execution_count": 7,
   "metadata": {},
   "outputs": [],
   "source": [
    "trainSet = pd.read_csv('imputedData.csv')"
   ]
  },
  {
   "cell_type": "code",
   "execution_count": 8,
   "metadata": {},
   "outputs": [],
   "source": [
    "month = []\n",
    "visitorType = []\n",
    "weekend = []\n",
    "province = []\n",
    "browser = []\n",
    "operatingSystems = []\n",
    "for i in features:\n",
    "    if i == 'Month':\n",
    "        columData = list(trainSet[i])\n",
    "        #print (columData)\n",
    "        for j in range(m):\n",
    "            if columData[j] == 'Jan':\n",
    "                month.append([1,0,0,0,0,0,0,0,0,0,0,0])\n",
    "            elif columData[j] == 'Feb':\n",
    "                month.append([0,1,0,0,0,0,0,0,0,0,0,0])\n",
    "            elif columData[j] == 'Mar':\n",
    "                month.append([0,0,1,0,0,0,0,0,0,0,0,0])\n",
    "            elif columData[j] == 'Apr':\n",
    "                month.append([0,0,0,1,0,0,0,0,0,0,0,0])\n",
    "            elif columData[j] == 'May':\n",
    "                month.append([0,0,0,0,1,0,0,0,0,0,0,0])\n",
    "            elif columData[j] == 'June':\n",
    "                month.append([0,0,0,0,0,1,0,0,0,0,0,0])\n",
    "            elif columData[j] == 'Jul':\n",
    "                month.append([0,0,0,0,0,0,1,0,0,0,0,0])\n",
    "            elif columData[j] == 'Aug':\n",
    "                month.append([0,0,0,0,0,0,0,1,0,0,0,0])\n",
    "            elif columData[j] == 'Sep':\n",
    "                month.append([0,0,0,0,0,0,0,0,1,0,0,0])\n",
    "            elif columData[j] == 'Oct':\n",
    "                month.append([0,0,0,0,0,0,0,0,0,1,0,0])\n",
    "            elif columData[j] == 'Nov':\n",
    "                month.append([0,0,0,0,0,0,0,0,0,0,1,0])\n",
    "            elif columData[j] == 'Dec':\n",
    "                month.append([0,0,0,0,0,0,0,0,0,0,0,1])\n",
    "            else:\n",
    "                print (1)\n",
    "    elif i == 'Weekend':\n",
    "        columData = list(trainSet[i])\n",
    "        for j in range(m):\n",
    "            if columData[j] == True:\n",
    "                weekend.append([1,0])\n",
    "            elif columData[j] == False:\n",
    "                weekend.append([0,1])             \n",
    "    elif i == 'VisitorType':\n",
    "        columData = list(trainSet[i])\n",
    "        for j in range(m):\n",
    "            if columData[j] == 'New_Visitor':\n",
    "                visitorType.append([1,0,0])\n",
    "            elif columData[j] == 'Returning_Visitor':\n",
    "                visitorType.append([0,1,0])\n",
    "            elif columData[j] == 'Other':\n",
    "                visitorType.append([0,0,1])\n",
    "            else:\n",
    "                print (columData[j])\n",
    "    elif i == 'Province':\n",
    "        columData = list(trainSet[i])\n",
    "        for j in range(m):\n",
    "            if columData[j] == 1:\n",
    "                province.append([1,0,0,0,0,0,0,0,0])\n",
    "            elif columData[j] == 2:\n",
    "                province.append([0,1,0,0,0,0,0,0,0])\n",
    "            elif columData[j] == 3:\n",
    "                province.append([0,0,1,0,0,0,0,0,0])\n",
    "            elif columData[j] == 4:\n",
    "                province.append([0,0,0,1,0,0,0,0,0])\n",
    "            elif columData[j] == 5:\n",
    "                province.append([0,0,0,0,1,0,0,0,0])\n",
    "            elif columData[j] == 6:\n",
    "                province.append([0,0,0,0,0,1,0,0,0])\n",
    "            elif columData[j] == 7:\n",
    "                province.append([0,0,0,0,0,0,1,0,0])\n",
    "            elif columData[j] == 8:\n",
    "                province.append([0,0,0,0,0,0,0,1,0])\n",
    "            elif columData[j] == 9:\n",
    "                province.append([0,0,0,0,0,0,0,0,1])\n",
    "            else:\n",
    "                print (columData[j])\n",
    "    elif i == 'Browser':\n",
    "        columData = list(trainSet[i])\n",
    "        for j in range(m):\n",
    "            if columData[j] == 1:\n",
    "                browser.append([1,0,0,0,0,0,0,0,0,0,0,0,0])\n",
    "            elif columData[j] == 2:\n",
    "                browser.append([0,1,0,0,0,0,0,0,0,0,0,0,0])\n",
    "            elif columData[j] == 3:\n",
    "                browser.append([0,0,1,0,0,0,0,0,0,0,0,0,0])\n",
    "            elif columData[j] == 4:\n",
    "                browser.append([0,0,0,1,0,0,0,0,0,0,0,0,0])\n",
    "            elif columData[j] == 5:\n",
    "                browser.append([0,0,0,0,1,0,0,0,0,0,0,0,0])\n",
    "            elif columData[j] == 6:\n",
    "                browser.append([0,0,0,0,0,1,0,0,0,0,0,0,0])\n",
    "            elif columData[j] == 7:\n",
    "                browser.append([0,0,0,0,0,0,1,0,0,0,0,0,0])\n",
    "            elif columData[j] == 8:\n",
    "                browser.append([0,0,0,0,0,0,0,1,0,0,0,0,0])\n",
    "            elif columData[j] == 9:\n",
    "                browser.append([0,0,0,0,0,0,0,0,1,0,0,0,0])\n",
    "            elif columData[j] == 10:\n",
    "                browser.append([0,0,0,0,0,0,0,0,0,1,0,0,0])\n",
    "            elif columData[j] == 11:\n",
    "                browser.append([0,0,0,0,0,0,0,0,0,0,1,0,0])\n",
    "            elif columData[j] == 12:\n",
    "                browser.append([0,0,0,0,0,0,0,0,0,0,0,1,0])\n",
    "            elif columData[j] == 13:\n",
    "                browser.append([0,0,0,0,0,0,0,0,0,0,0,0,1])\n",
    "            else:\n",
    "                print (columData[j])\n",
    "    elif i == 'OperatingSystems':\n",
    "        columData = list(trainSet[i])\n",
    "        for j in range(m):\n",
    "            if columData[j] == 1:\n",
    "                operatingSystems.append([1,0,0,0,0,0,0,0])\n",
    "            elif columData[j] == 2:\n",
    "                operatingSystems.append([0,1,0,0,0,0,0,0])\n",
    "            elif columData[j] == 3:\n",
    "                operatingSystems.append([0,0,1,0,0,0,0,0])\n",
    "            elif columData[j] == 4:\n",
    "                operatingSystems.append([0,0,0,1,0,0,0,0])\n",
    "            elif columData[j] == 5:\n",
    "                operatingSystems.append([0,0,0,0,1,0,0,0])\n",
    "            elif columData[j] == 6:\n",
    "                operatingSystems.append([0,0,0,0,0,1,0,0])\n",
    "            elif columData[j] == 7:\n",
    "                operatingSystems.append([0,0,0,0,0,0,1,0])\n",
    "            elif columData[j] == 8:\n",
    "                operatingSystems.append([0,0,0,0,0,0,0,1])\n",
    "            else:\n",
    "                print (columData[j])\n"
   ]
  },
  {
   "cell_type": "code",
   "execution_count": 9,
   "metadata": {},
   "outputs": [
    {
     "data": {
      "text/plain": [
       "(10480, 59)"
      ]
     },
     "execution_count": 9,
     "metadata": {},
     "output_type": "execute_result"
    }
   ],
   "source": [
    "X_0 = trainSet.iloc[:, 0:10].values\n",
    "X_1 = trainSet.iloc[:, 14:15].values    #traffic type\n",
    "Y_ = trainSet.iloc[:, 17:18].values\n",
    "X_ = np.append(X_0,month,axis=1)\n",
    "X_ = np.append(X_,operatingSystems,axis=1)\n",
    "X_ = np.append(X_,browser,axis=1)\n",
    "X_ = np.append(X_,province,axis=1)\n",
    "X_ = np.append(X_,X_1,axis=1)\n",
    "X_ = np.append(X_,visitorType,axis=1)\n",
    "X_ = np.append(X_,weekend,axis=1)\n",
    "df_ = np.append(X_,Y_,axis=1)\n",
    "df_.shape"
   ]
  },
  {
   "cell_type": "code",
   "execution_count": 10,
   "metadata": {},
   "outputs": [
    {
     "name": "stdout",
     "output_type": "stream",
     "text": [
      "59\n"
     ]
    }
   ],
   "source": [
    "featureNames = ['homepage', 'homepage _duration', 'aboutus', 'aboutus_duration',\n",
    "       'contactus', 'contactus_duration', 'bounceRates', 'exitRates',\n",
    "       'PageValues', 'SpecialDay','Month1','Month2','Month3','Month4','Month5','Month6','Month7','Month8',\n",
    "        'Month9','Month10','Month11','Month12','os1','os2','os3','os4','os5','os6','os7','os8',\n",
    "        'browser1','browser2','browser3','browser4','browser5','browser6','browser7','browser8','browser9',\n",
    "        'browser10','browser11','browser12','browser13','province1','province2','province3','province4','province5',\n",
    "        'province6','province7','province8','province9','Traffic_Type','visitor1','visitor2','visitor3',\n",
    "        'weekend1','weekwnd2','Revenue']\n",
    "print (len(featureNames))"
   ]
  },
  {
   "cell_type": "code",
   "execution_count": 11,
   "metadata": {},
   "outputs": [],
   "source": [
    "dfObj = pd.DataFrame(df_, columns = featureNames) \n",
    "dfObj.to_csv('oneHotData.csv', index=False)"
   ]
  },
  {
   "cell_type": "markdown",
   "metadata": {},
   "source": [
    "##### Test data preprocessing"
   ]
  },
  {
   "cell_type": "code",
   "execution_count": 12,
   "metadata": {},
   "outputs": [
    {
     "data": {
      "text/plain": [
       "(1850, 17)"
      ]
     },
     "execution_count": 12,
     "metadata": {},
     "output_type": "execute_result"
    }
   ],
   "source": [
    "testSet = pd.read_csv('xtest.csv')\n",
    "m = testSet.shape[0]\n",
    "features = list(testSet.columns)[:]\n",
    "testSet = testSet.iloc[:, 1:18].values\n",
    "testSet.shape\n",
    "testSet= pd.DataFrame(testSet, columns = ['Homepage', 'Homepage _Duration', 'Aboutus', 'Aboutus_Duration',\n",
    "      'Contactus', 'Contactus_Duration', 'BounceRates', 'ExitRates',\n",
    "      'PageValues', 'SpecialDay','TrafficType', 'Month', 'OperatingSystems', 'Browser',\n",
    "      'Province', 'VisitorType', 'Weekend']) \n",
    "testSet.shape"
   ]
  },
  {
   "cell_type": "code",
   "execution_count": 13,
   "metadata": {},
   "outputs": [],
   "source": [
    "X0 = testSet.iloc[:, 10:17].values #month....weekend\n",
    "X1 = testSet.iloc[:, 0:1].values   #homepage\n",
    "X2 = testSet.iloc[:, 2:3].values   #aboutus\n",
    "X3 = testSet.iloc[:, 4:5].values   #contactus\n",
    "X4 = testSet.iloc[:, 1:2].values   #homepage_time\n",
    "X5 = testSet.iloc[:, 3:4].values   #aboutus_time\n",
    "X6 = testSet.iloc[:, 5:10].values   #contactus_time....special_day"
   ]
  },
  {
   "cell_type": "code",
   "execution_count": 14,
   "metadata": {},
   "outputs": [],
   "source": [
    "imp_mf = SimpleImputer(missing_values=np.nan, strategy='most_frequent')\n",
    "\n",
    "imp_mf.fit(X0)\n",
    "X0 = imp_mf.transform(X0)\n",
    "imp_mf.fit(X1)\n",
    "X1 = imp_mf.transform(X1)\n",
    "imp_mf.fit(X2)\n",
    "X2 = imp_mf.transform(X2)\n",
    "imp_mf.fit(X3)\n",
    "X3 = imp_mf.transform(X3)\n",
    "\n",
    "imp_mean = SimpleImputer(missing_values=np.nan, strategy='mean')\n",
    "X4[X4 < 0] = np.nan\n",
    "imp_mean.fit(X4)\n",
    "X4 = imp_mean.transform(X4)\n",
    "X5[X5 < 0] = np.nan\n",
    "imp_mean.fit(X5)\n",
    "X5 = imp_mean.transform(X5)\n",
    "X6[X6 < 0] = np.nan\n",
    "imp_mean.fit(X6)\n",
    "X6 = imp_mean.transform(X6)"
   ]
  },
  {
   "cell_type": "code",
   "execution_count": 15,
   "metadata": {},
   "outputs": [
    {
     "data": {
      "text/plain": [
       "(1850, 17)"
      ]
     },
     "execution_count": 15,
     "metadata": {},
     "output_type": "execute_result"
    }
   ],
   "source": [
    "X= np.append(X1,X4,axis=1)\n",
    "X= np.append(X,X2,axis=1)\n",
    "X= np.append(X,X5,axis=1)\n",
    "X= np.append(X,X3,axis=1)\n",
    "X= np.append(X,X6,axis=1)\n",
    "X= np.append(X,X0,axis=1)\n",
    "df= X\n",
    "df.shape"
   ]
  },
  {
   "cell_type": "code",
   "execution_count": 16,
   "metadata": {},
   "outputs": [],
   "source": [
    "dfObj = pd.DataFrame(df, columns = ['Homepage', 'Homepage _Duration', 'Aboutus', 'Aboutus_Duration',\n",
    "       'Contactus', 'Contactus_Duration', 'BounceRates', 'ExitRates',\n",
    "       'PageValues', 'SpecialDay', 'Month', 'OperatingSystems', 'Browser',\n",
    "       'Province','TrafficType', 'VisitorType', 'Weekend']) \n",
    "dfObj.to_csv('imputedTestData.csv', index=False)"
   ]
  },
  {
   "cell_type": "code",
   "execution_count": 17,
   "metadata": {},
   "outputs": [],
   "source": [
    "trainSet = pd.read_csv('imputedTestData.csv')"
   ]
  },
  {
   "cell_type": "code",
   "execution_count": 18,
   "metadata": {},
   "outputs": [],
   "source": [
    "month = []\n",
    "visitorType = []\n",
    "weekend = []\n",
    "province = []\n",
    "browser = []\n",
    "operatingSystems = []\n",
    "for i in features:\n",
    "    if i == 'Month':\n",
    "        columData = list(trainSet[i])\n",
    "        #print (columData)\n",
    "        for j in range(m):\n",
    "            if columData[j] == 'Jan':\n",
    "                month.append([1,0,0,0,0,0,0,0,0,0,0,0])\n",
    "            elif columData[j] == 'Feb':\n",
    "                month.append([0,1,0,0,0,0,0,0,0,0,0,0])\n",
    "            elif columData[j] == 'Mar':\n",
    "                month.append([0,0,1,0,0,0,0,0,0,0,0,0])\n",
    "            elif columData[j] == 'Apr':\n",
    "                month.append([0,0,0,1,0,0,0,0,0,0,0,0])\n",
    "            elif columData[j] == 'May':\n",
    "                month.append([0,0,0,0,1,0,0,0,0,0,0,0])\n",
    "            elif columData[j] == 'June':\n",
    "                month.append([0,0,0,0,0,1,0,0,0,0,0,0])\n",
    "            elif columData[j] == 'Jul':\n",
    "                month.append([0,0,0,0,0,0,1,0,0,0,0,0])\n",
    "            elif columData[j] == 'Aug':\n",
    "                month.append([0,0,0,0,0,0,0,1,0,0,0,0])\n",
    "            elif columData[j] == 'Sep':\n",
    "                month.append([0,0,0,0,0,0,0,0,1,0,0,0])\n",
    "            elif columData[j] == 'Oct':\n",
    "                month.append([0,0,0,0,0,0,0,0,0,1,0,0])\n",
    "            elif columData[j] == 'Nov':\n",
    "                month.append([0,0,0,0,0,0,0,0,0,0,1,0])\n",
    "            elif columData[j] == 'Dec':\n",
    "                month.append([0,0,0,0,0,0,0,0,0,0,0,1])\n",
    "            else:\n",
    "                print (1)\n",
    "    elif i == 'Weekend':\n",
    "        columData = list(trainSet[i])\n",
    "        for j in range(m):\n",
    "            if columData[j] == True:\n",
    "                weekend.append([1,0])\n",
    "            elif columData[j] == False:\n",
    "                weekend.append([0,1])             \n",
    "    elif i == 'VisitorType':\n",
    "        columData = list(trainSet[i])\n",
    "        for j in range(m):\n",
    "            if columData[j] == 'New_Visitor':\n",
    "                visitorType.append([1,0,0])\n",
    "            elif columData[j] == 'Returning_Visitor':\n",
    "                visitorType.append([0,1,0])\n",
    "            elif columData[j] == 'Other':\n",
    "                visitorType.append([0,0,1])\n",
    "            else:\n",
    "                print (columData[j])\n",
    "    elif i == 'Province':\n",
    "        columData = list(trainSet[i])\n",
    "        for j in range(m):\n",
    "            if columData[j] == 1:\n",
    "                province.append([1,0,0,0,0,0,0,0,0])\n",
    "            elif columData[j] == 2:\n",
    "                province.append([0,1,0,0,0,0,0,0,0])\n",
    "            elif columData[j] == 3:\n",
    "                province.append([0,0,1,0,0,0,0,0,0])\n",
    "            elif columData[j] == 4:\n",
    "                province.append([0,0,0,1,0,0,0,0,0])\n",
    "            elif columData[j] == 5:\n",
    "                province.append([0,0,0,0,1,0,0,0,0])\n",
    "            elif columData[j] == 6:\n",
    "                province.append([0,0,0,0,0,1,0,0,0])\n",
    "            elif columData[j] == 7:\n",
    "                province.append([0,0,0,0,0,0,1,0,0])\n",
    "            elif columData[j] == 8:\n",
    "                province.append([0,0,0,0,0,0,0,1,0])\n",
    "            elif columData[j] == 9:\n",
    "                province.append([0,0,0,0,0,0,0,0,1])\n",
    "            else:\n",
    "                print (columData[j])\n",
    "    elif i == 'Browser':\n",
    "        columData = list(trainSet[i])\n",
    "        for j in range(m):\n",
    "            if columData[j] == 1:\n",
    "                browser.append([1,0,0,0,0,0,0,0,0,0,0,0,0])\n",
    "            elif columData[j] == 2:\n",
    "                browser.append([0,1,0,0,0,0,0,0,0,0,0,0,0])\n",
    "            elif columData[j] == 3:\n",
    "                browser.append([0,0,1,0,0,0,0,0,0,0,0,0,0])\n",
    "            elif columData[j] == 4:\n",
    "                browser.append([0,0,0,1,0,0,0,0,0,0,0,0,0])\n",
    "            elif columData[j] == 5:\n",
    "                browser.append([0,0,0,0,1,0,0,0,0,0,0,0,0])\n",
    "            elif columData[j] == 6:\n",
    "                browser.append([0,0,0,0,0,1,0,0,0,0,0,0,0])\n",
    "            elif columData[j] == 7:\n",
    "                browser.append([0,0,0,0,0,0,1,0,0,0,0,0,0])\n",
    "            elif columData[j] == 8:\n",
    "                browser.append([0,0,0,0,0,0,0,1,0,0,0,0,0])\n",
    "            elif columData[j] == 9:\n",
    "                browser.append([0,0,0,0,0,0,0,0,1,0,0,0,0])\n",
    "            elif columData[j] == 10:\n",
    "                browser.append([0,0,0,0,0,0,0,0,0,1,0,0,0])\n",
    "            elif columData[j] == 11:\n",
    "                browser.append([0,0,0,0,0,0,0,0,0,0,1,0,0])\n",
    "            elif columData[j] == 12:\n",
    "                browser.append([0,0,0,0,0,0,0,0,0,0,0,1,0])\n",
    "            elif columData[j] == 13:\n",
    "                browser.append([0,0,0,0,0,0,0,0,0,0,0,0,1])\n",
    "            else:\n",
    "                print (columData[j])\n",
    "    elif i == 'OperatingSystems':\n",
    "        columData = list(trainSet[i])\n",
    "        for j in range(m):\n",
    "            if columData[j] == 1:\n",
    "                operatingSystems.append([1,0,0,0,0,0,0,0])\n",
    "            elif columData[j] == 2:\n",
    "                operatingSystems.append([0,1,0,0,0,0,0,0])\n",
    "            elif columData[j] == 3:\n",
    "                operatingSystems.append([0,0,1,0,0,0,0,0])\n",
    "            elif columData[j] == 4:\n",
    "                operatingSystems.append([0,0,0,1,0,0,0,0])\n",
    "            elif columData[j] == 5:\n",
    "                operatingSystems.append([0,0,0,0,1,0,0,0])\n",
    "            elif columData[j] == 6:\n",
    "                operatingSystems.append([0,0,0,0,0,1,0,0])\n",
    "            elif columData[j] == 7:\n",
    "                operatingSystems.append([0,0,0,0,0,0,1,0])\n",
    "            elif columData[j] == 8:\n",
    "                operatingSystems.append([0,0,0,0,0,0,0,1])\n",
    "            else:\n",
    "                print (columData[j])"
   ]
  },
  {
   "cell_type": "code",
   "execution_count": 19,
   "metadata": {},
   "outputs": [
    {
     "data": {
      "text/plain": [
       "(1850, 58)"
      ]
     },
     "execution_count": 19,
     "metadata": {},
     "output_type": "execute_result"
    }
   ],
   "source": [
    "X_0 = trainSet.iloc[:, 0:10].values\n",
    "X_1 = trainSet.iloc[:, 14:15].values    #traffic type\n",
    "X_ = np.append(X_0,month,axis=1)\n",
    "X_ = np.append(X_,operatingSystems,axis=1)\n",
    "X_ = np.append(X_,browser,axis=1)\n",
    "X_ = np.append(X_,province,axis=1)\n",
    "X_ = np.append(X_,X_1,axis=1)\n",
    "X_ = np.append(X_,visitorType,axis=1)\n",
    "X_ = np.append(X_,weekend,axis=1)\n",
    "df_ = X_\n",
    "df_.shape"
   ]
  },
  {
   "cell_type": "code",
   "execution_count": 20,
   "metadata": {},
   "outputs": [
    {
     "name": "stdout",
     "output_type": "stream",
     "text": [
      "58\n"
     ]
    }
   ],
   "source": [
    "featureNames = ['homepage', 'homepage _duration', 'aboutus', 'aboutus_duration',\n",
    "       'contactus', 'contactus_duration', 'bounceRates', 'exitRates',\n",
    "       'PageValues', 'SpecialDay','Month1','Month2','Month3','Month4','Month5','Month6','Month7','Month8',\n",
    "        'Month9','Month10','Month11','Month12','os1','os2','os3','os4','os5','os6','os7','os8',\n",
    "        'browser1','browser2','browser3','browser4','browser5','browser6','browser7','browser8','browser9',\n",
    "        'browser10','browser11','browser12','browser13','province1','province2','province3','province4','province5',\n",
    "        'province6','province7','province8','province9','Traffic_Type','visitor1','visitor2','visitor3',\n",
    "        'weekend1','weekwnd2']\n",
    "print (len(featureNames))"
   ]
  },
  {
   "cell_type": "code",
   "execution_count": 21,
   "metadata": {},
   "outputs": [],
   "source": [
    "dfObj = pd.DataFrame(df_, columns = featureNames) \n",
    "dfObj.to_csv('oneHotTestData.csv', index=False)"
   ]
  },
  {
   "cell_type": "markdown",
   "metadata": {},
   "source": [
    "### Training models"
   ]
  },
  {
   "cell_type": "code",
   "execution_count": 22,
   "metadata": {},
   "outputs": [
    {
     "name": "stdout",
     "output_type": "stream",
     "text": [
      "(10480, 59)\n"
     ]
    }
   ],
   "source": [
    "trainData = pd.read_csv('oneHotData.csv')\n",
    "print (trainData.shape)\n",
    "m = trainData.shape[0]\n",
    "features = list(trainData.columns)[:]\n",
    "Y = trainData[features[-1]]\n",
    "X = trainData[features[:]]\n",
    "#trainData[features[52:56]]"
   ]
  },
  {
   "cell_type": "code",
   "execution_count": 23,
   "metadata": {},
   "outputs": [
    {
     "data": {
      "text/plain": [
       "(10480, 12)"
      ]
     },
     "execution_count": 23,
     "metadata": {},
     "output_type": "execute_result"
    }
   ],
   "source": [
    "#select 12 features from dataset\n",
    "X_0 = trainData.iloc[:, 0:9].values\n",
    "X_1 = trainData.iloc[:, 20:21].values\n",
    "X_2 = trainData.iloc[:, 52:54].values\n",
    "X = np.append(X_0,X_1, axis = 1)\n",
    "X = np.append(X,X_2, axis = 1)\n",
    "X = pd.DataFrame(X)\n",
    "X.shape"
   ]
  },
  {
   "cell_type": "code",
   "execution_count": 25,
   "metadata": {},
   "outputs": [
    {
     "name": "stderr",
     "output_type": "stream",
     "text": [
      "C:\\ProgramData\\Anaconda3\\lib\\site-packages\\sklearn\\ensemble\\iforest.py:213: FutureWarning: default contamination parameter 0.1 will change in version 0.22 to \"auto\". This will change the predict method behavior.\n",
      "  FutureWarning)\n",
      "C:\\ProgramData\\Anaconda3\\lib\\site-packages\\sklearn\\ensemble\\iforest.py:223: FutureWarning: behaviour=\"old\" is deprecated and will be removed in version 0.22. Please use behaviour=\"new\", which makes the decision_function change to match other anomaly detection algorithm API.\n",
      "  FutureWarning)\n",
      "C:\\ProgramData\\Anaconda3\\lib\\site-packages\\sklearn\\ensemble\\iforest.py:417: DeprecationWarning: threshold_ attribute is deprecated in 0.20 and will be removed in 0.22.\n",
      "  \" be removed in 0.22.\", DeprecationWarning)\n"
     ]
    },
    {
     "data": {
      "text/plain": [
       "(10480, 14)"
      ]
     },
     "execution_count": 25,
     "metadata": {},
     "output_type": "execute_result"
    }
   ],
   "source": [
    "clf = IsolationForest(n_estimators=100)#warm_start=True)\n",
    "Out= clf.fit_predict(X)  # fit 10 trees \n",
    "Out2= clf.score_samples(X)\n",
    "\n",
    "Out2= Out2*(-1)\n",
    "Out2= Out2.transpose()\n",
    "Out2= np.reshape(Out2,(m,1))\n",
    "X= np.append(X,Out2, axis=1)\n",
    "\n",
    "Out= Out*(-1)\n",
    "Out= Out.transpose()\n",
    "Out= np.reshape(Out,(m,1))\n",
    "X= np.append(X,Out, axis=1)\n",
    "X.shape"
   ]
  },
  {
   "cell_type": "code",
   "execution_count": 26,
   "metadata": {},
   "outputs": [
    {
     "name": "stdout",
     "output_type": "stream",
     "text": [
      "(10480, 10)\n",
      "(10480, 12)\n"
     ]
    }
   ],
   "source": [
    "X_train, X_test, y_train, y_test = train_test_split(X, Y, test_size=0.3, random_state=42)\n",
    "X_train = X\n",
    "y_train = Y\n",
    "X1_train = (pd.DataFrame(X_train)).iloc[:, 0:10].values\n",
    "X2_train = (pd.DataFrame(X_train)).iloc[:, 2:].values\n",
    "X1_test = (pd.DataFrame(X_test)).iloc[:, 0:10].values\n",
    "X2_test = (pd.DataFrame(X_test)).iloc[:, 2:].values\n",
    "print (X1_train.shape)\n",
    "print (X2_train.shape)"
   ]
  },
  {
   "cell_type": "code",
   "execution_count": 27,
   "metadata": {},
   "outputs": [
    {
     "name": "stdout",
     "output_type": "stream",
     "text": [
      "Done\n"
     ]
    }
   ],
   "source": [
    "regressor1 = RandomForestClassifier(bootstrap=True,\n",
    "                                                    class_weight=None,\n",
    "                                                    criterion='gini',\n",
    "                                                    max_depth= 9,\n",
    "                                                    max_features='auto',\n",
    "                                                    max_leaf_nodes=None,\n",
    "                                                    min_impurity_decrease=0.0,\n",
    "                                                    min_impurity_split=None,\n",
    "                                                    min_samples_leaf=1,\n",
    "                                                    min_samples_split=2,\n",
    "                                                    min_weight_fraction_leaf=0.0,\n",
    "                                                    n_estimators=300,\n",
    "                                                    n_jobs=None,)\n",
    "regressor2 = RandomForestClassifier(bootstrap=True,\n",
    "                                                    class_weight=None,\n",
    "                                                    criterion='gini',\n",
    "                                                    max_depth= 9,\n",
    "                                                    max_features='auto',\n",
    "                                                    max_leaf_nodes=None,\n",
    "                                                    min_impurity_decrease=0.0,\n",
    "                                                    min_impurity_split=None,\n",
    "                                                    min_samples_leaf=1,\n",
    "                                                    min_samples_split=2,\n",
    "                                                    min_weight_fraction_leaf=0.0,\n",
    "                                                    n_estimators=300,\n",
    "                                                    n_jobs=None,)\n",
    "regressor1.fit(X1_train, y_train)\n",
    "regressor2.fit(X2_train, y_train)\n",
    "print ('Done')"
   ]
  },
  {
   "cell_type": "code",
   "execution_count": 28,
   "metadata": {},
   "outputs": [],
   "source": [
    "y_pred1 = regressor1.predict(X1_train)\n",
    "y_predtest1 = regressor1.predict(X1_test)\n",
    "y_pred2 = regressor2.predict(X2_train)\n",
    "y_predtest2 = regressor2.predict(X2_test)"
   ]
  },
  {
   "cell_type": "code",
   "execution_count": 29,
   "metadata": {},
   "outputs": [
    {
     "name": "stdout",
     "output_type": "stream",
     "text": [
      "0.9412213740458015\n",
      "0.94529262086514\n",
      "0.9361641221374046\n",
      "0.9392493638676844\n"
     ]
    }
   ],
   "source": [
    "print(accuracy_score(y_train, y_pred1))\n",
    "print(accuracy_score(y_test, y_predtest1))\n",
    "print(accuracy_score(y_train, y_pred2))\n",
    "print(accuracy_score(y_test, y_predtest2))"
   ]
  },
  {
   "cell_type": "code",
   "execution_count": 30,
   "metadata": {},
   "outputs": [
    {
     "data": {
      "text/plain": [
       "(10480, 24)"
      ]
     },
     "execution_count": 30,
     "metadata": {},
     "output_type": "execute_result"
    }
   ],
   "source": [
    "XL = []\n",
    "for i in range(y_pred1.shape[0]):\n",
    "    row  = []\n",
    "    row.append(y_pred1[i])\n",
    "    row.append(y_pred2[i])\n",
    "    XL.append(row)\n",
    "XL = np.array(XL)\n",
    "XL = np.append(X1_train, XL, axis = 1)\n",
    "XL = np.append(X2_train, XL, axis = 1)\n",
    "XL = pd.DataFrame(XL)\n",
    "XL.shape"
   ]
  },
  {
   "cell_type": "code",
   "execution_count": 31,
   "metadata": {},
   "outputs": [
    {
     "data": {
      "text/plain": [
       "(3144, 24)"
      ]
     },
     "execution_count": 31,
     "metadata": {},
     "output_type": "execute_result"
    }
   ],
   "source": [
    "XLtest = []\n",
    "for i in range(y_predtest1.shape[0]):\n",
    "    row  = []\n",
    "    row.append(y_predtest1[i])\n",
    "    row.append(y_predtest2[i])\n",
    "    XLtest.append(row)\n",
    "XLtest = np.array(XLtest)\n",
    "XLtest = np.append(X1_test, XLtest, axis = 1)\n",
    "XLtest = np.append(X2_test, XLtest, axis = 1)\n",
    "XLtest = pd.DataFrame(XLtest)\n",
    "XLtest.shape"
   ]
  },
  {
   "cell_type": "code",
   "execution_count": 32,
   "metadata": {},
   "outputs": [
    {
     "name": "stdout",
     "output_type": "stream",
     "text": [
      "Done\n"
     ]
    }
   ],
   "source": [
    "#Create a Gaussian Classifier\n",
    "regressor3=RandomForestClassifier(bootstrap=True,\n",
    "                                                    class_weight=None,\n",
    "                                                    criterion='gini',\n",
    "                                                    max_depth= 9,\n",
    "                                                    max_features='auto',\n",
    "                                                    max_leaf_nodes=None,\n",
    "                                                    min_impurity_decrease=0.0,\n",
    "                                                    min_impurity_split=None,\n",
    "                                                    min_samples_leaf=1,\n",
    "                                                    min_samples_split=2,\n",
    "                                                    min_weight_fraction_leaf=0.0,\n",
    "                                                    n_estimators=300,\n",
    "                                                    n_jobs=None,)\n",
    "\n",
    "regressor3.fit(XL, y_train)\n",
    "print ('Done')"
   ]
  },
  {
   "cell_type": "code",
   "execution_count": 33,
   "metadata": {},
   "outputs": [],
   "source": [
    "y_pred = regressor3.predict(XLtest)\n",
    "y_train_pred = regressor3.predict(XL)"
   ]
  },
  {
   "cell_type": "code",
   "execution_count": 45,
   "metadata": {},
   "outputs": [
    {
     "name": "stdout",
     "output_type": "stream",
     "text": [
      "train accuracy=  0.9460877862595419\n",
      "test accuracy=  0.9494274809160306\n",
      "[[2608   33]\n",
      " [ 126  377]]\n",
      "              precision    recall  f1-score   support\n",
      "\n",
      "         0.0       0.95      0.99      0.97      2641\n",
      "         1.0       0.92      0.75      0.83       503\n",
      "\n",
      "   micro avg       0.95      0.95      0.95      3144\n",
      "   macro avg       0.94      0.87      0.90      3144\n",
      "weighted avg       0.95      0.95      0.95      3144\n",
      "\n"
     ]
    }
   ],
   "source": [
    "print(\"train accuracy= \",accuracy_score(y_train, y_train_pred))\n",
    "print(\"test accuracy= \", accuracy_score(y_test, y_pred))\n",
    "print(confusion_matrix(y_test,y_pred))\n",
    "print(classification_report(y_test,y_pred))"
   ]
  },
  {
   "cell_type": "code",
   "execution_count": 35,
   "metadata": {},
   "outputs": [
    {
     "name": "stdout",
     "output_type": "stream",
     "text": [
      "0.9494274809160306\n",
      "0.9460877862595419\n"
     ]
    }
   ],
   "source": [
    "print(accuracy_score(y_test, y_pred))\n",
    "print(accuracy_score(y_train, y_train_pred))"
   ]
  },
  {
   "cell_type": "markdown",
   "metadata": {},
   "source": [
    "### Predict on xtest.csv"
   ]
  },
  {
   "cell_type": "code",
   "execution_count": 36,
   "metadata": {},
   "outputs": [
    {
     "data": {
      "text/plain": [
       "(1850, 12)"
      ]
     },
     "execution_count": 36,
     "metadata": {},
     "output_type": "execute_result"
    }
   ],
   "source": [
    "testData = pd.read_csv('oneHotTestData.csv')\n",
    "mTest = testData.shape[0]\n",
    "featuresTest = list(testData.columns)[:]\n",
    "XT = testData[featuresTest[:]]\n",
    "#select 12 features from dataset\n",
    "X_0 = testData.iloc[:, 0:9].values\n",
    "X_1 = testData.iloc[:, 20:21].values\n",
    "X_2 = testData.iloc[:, 52:54].values\n",
    "XT = np.append(X_0,X_1, axis = 1)\n",
    "XT = np.append(XT,X_2, axis = 1)\n",
    "XT = pd.DataFrame(XT)\n",
    "XT.shape"
   ]
  },
  {
   "cell_type": "code",
   "execution_count": 37,
   "metadata": {},
   "outputs": [
    {
     "name": "stderr",
     "output_type": "stream",
     "text": [
      "C:\\ProgramData\\Anaconda3\\lib\\site-packages\\sklearn\\ensemble\\iforest.py:213: FutureWarning: default contamination parameter 0.1 will change in version 0.22 to \"auto\". This will change the predict method behavior.\n",
      "  FutureWarning)\n",
      "C:\\ProgramData\\Anaconda3\\lib\\site-packages\\sklearn\\ensemble\\iforest.py:223: FutureWarning: behaviour=\"old\" is deprecated and will be removed in version 0.22. Please use behaviour=\"new\", which makes the decision_function change to match other anomaly detection algorithm API.\n",
      "  FutureWarning)\n",
      "C:\\ProgramData\\Anaconda3\\lib\\site-packages\\sklearn\\ensemble\\iforest.py:417: DeprecationWarning: threshold_ attribute is deprecated in 0.20 and will be removed in 0.22.\n",
      "  \" be removed in 0.22.\", DeprecationWarning)\n"
     ]
    },
    {
     "data": {
      "text/plain": [
       "(1850, 14)"
      ]
     },
     "execution_count": 37,
     "metadata": {},
     "output_type": "execute_result"
    }
   ],
   "source": [
    "clf = IsolationForest(n_estimators=100)# warm_start=True)\n",
    "Out= clf.fit_predict(XT)  # fit 10 trees \n",
    "Out2= clf.score_samples(XT)\n",
    "\n",
    "Out2= Out2*(-1)\n",
    "Out2= Out2.transpose()\n",
    "Out2= np.reshape(Out2,(1850,1))\n",
    "XT= np.append(XT,Out2, axis=1)\n",
    "\n",
    "Out= Out*(-1)\n",
    "Out= Out.transpose()\n",
    "Out= np.reshape(Out,(1850,1))\n",
    "XT= np.append(XT,Out, axis=1)\n",
    "XT.shape"
   ]
  },
  {
   "cell_type": "code",
   "execution_count": 38,
   "metadata": {},
   "outputs": [
    {
     "name": "stdout",
     "output_type": "stream",
     "text": [
      "(1850, 10)\n",
      "(1850, 12)\n"
     ]
    }
   ],
   "source": [
    "XT1 = (pd.DataFrame(XT)).iloc[:, 0:10].values\n",
    "XT2 = (pd.DataFrame(XT)).iloc[:, 2:].values\n",
    "print (XT1.shape)\n",
    "print (XT2.shape)"
   ]
  },
  {
   "cell_type": "code",
   "execution_count": 39,
   "metadata": {},
   "outputs": [],
   "source": [
    "y_pred1 = regressor1.predict(XT1)\n",
    "y_pred2 = regressor2.predict(XT2)"
   ]
  },
  {
   "cell_type": "code",
   "execution_count": 40,
   "metadata": {},
   "outputs": [
    {
     "data": {
      "text/plain": [
       "(1850, 24)"
      ]
     },
     "execution_count": 40,
     "metadata": {},
     "output_type": "execute_result"
    }
   ],
   "source": [
    "XTL = []\n",
    "for i in range(y_pred1.shape[0]):\n",
    "    row  = []\n",
    "    row.append(y_pred1[i])\n",
    "    row.append(y_pred2[i])\n",
    "    XTL.append(row)\n",
    "XTL = np.array(XTL)\n",
    "XTL = np.append(XT1, XTL, axis = 1)\n",
    "XTL = np.append(XT2, XTL, axis = 1)\n",
    "XTL = pd.DataFrame(XTL)\n",
    "XTL.shape"
   ]
  },
  {
   "cell_type": "code",
   "execution_count": 41,
   "metadata": {},
   "outputs": [],
   "source": [
    "y_predtest = regressor3.predict(XTL)"
   ]
  },
  {
   "cell_type": "code",
   "execution_count": 42,
   "metadata": {},
   "outputs": [
    {
     "name": "stdout",
     "output_type": "stream",
     "text": [
      "222\n",
      "1628\n"
     ]
    }
   ],
   "source": [
    "ones = 0\n",
    "zeros = 0\n",
    "predictions = []\n",
    "for i in range(y_predtest.shape[0]):\n",
    "    if y_predtest[i] == 1.00:\n",
    "        predictions.append(1)\n",
    "        \n",
    "    else:\n",
    "        predictions.append(0)\n",
    "for i in range(len(predictions)):\n",
    "    if predictions[i] ==1:\n",
    "        ones +=1\n",
    "    else:\n",
    "        zeros +=1\n",
    "print (ones)\n",
    "print (zeros)"
   ]
  },
  {
   "cell_type": "code",
   "execution_count": 43,
   "metadata": {},
   "outputs": [],
   "source": [
    "submissionObj = pd.DataFrame(predictions, columns = ['Revenue']) \n",
    "submissionObj.index.name='ID'\n",
    "submissionObj.index+=1\n",
    "submissionObj.to_csv('submission.csv')"
   ]
  },
  {
   "cell_type": "code",
   "execution_count": null,
   "metadata": {},
   "outputs": [],
   "source": []
  }
 ],
 "metadata": {
  "kernelspec": {
   "display_name": "Python 3",
   "language": "python",
   "name": "python3"
  },
  "language_info": {
   "codemirror_mode": {
    "name": "ipython",
    "version": 3
   },
   "file_extension": ".py",
   "mimetype": "text/x-python",
   "name": "python",
   "nbconvert_exporter": "python",
   "pygments_lexer": "ipython3",
   "version": "3.7.1"
  }
 },
 "nbformat": 4,
 "nbformat_minor": 4
}
